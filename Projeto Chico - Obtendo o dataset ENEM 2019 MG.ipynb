{
 "cells": [
  {
   "cell_type": "markdown",
   "metadata": {},
   "source": [
    "# **PROJETO CHICO**\n",
    "por **Rodrigo Gosling**\n",
    "<br>\n",
    "<a href=\"https://www.linkedin.com/in/rodgosling/\" target=\"_blank\">Linkedin</a>\n",
    "<br>\n",
    "---"
   ]
  },
  {
   "cell_type": "markdown",
   "metadata": {},
   "source": [
    "O Projeto Chico foi elaborado durante a 2ª Imersão de dados da <a href=\"https://www.alura.com.br/\" target=\"_blank\">Alura</a>. Neste estudo foram elaborados dois notebooks: \n",
    "* \"Obtendo o datasete ENEM 2019 MG\" (este), onde foram realizados os o processos de obtenção, tratamento, limpeza da base de dados do ENEM 2019 filtrados pelo estado de Minas Gerais.\n",
    "* \"Análises\", onde foram realizadas as análises do dataset.\n",
    "<br>\n",
    "---"
   ]
  },
  {
   "cell_type": "markdown",
   "metadata": {},
   "source": [
    "# Obtenção das bases de dados"
   ]
  },
  {
   "cell_type": "code",
   "execution_count": 1,
   "metadata": {},
   "outputs": [],
   "source": [
    "# Importando bibliotecas necessárias\n",
    "\n",
    "import numpy          as np\n",
    "import pandas         as pd\n",
    "import dask.dataframe as dd"
   ]
  },
  {
   "cell_type": "markdown",
   "metadata": {},
   "source": [
    "## Dados da população estimada 2020"
   ]
  },
  {
   "cell_type": "markdown",
   "metadata": {},
   "source": [
    "O conjunto de dados referente a quantidade de habitantes de cada município do estado de Minas Gerais será utilizado para classificar as cidades quanto ao seu tamanho, conforme quadro abaixo:\n",
    "\n",
    "Tamanho | População\n",
    "--- | ---\n",
    "Pequeno | até 50.000 hab.\n",
    "Médio | entre 50.0001 e 300.000 hab.\n",
    "Grande | acima de 300.001 hab.\n",
    "\n",
    "<br>\n",
    "Fonte: <a href=\"https://www.ibge.gov.br/estatisticas/sociais/populacao/9103-estimativas-de-populacao.html?edicao=28674&t=resultados\">IBGE 2020</a>"
   ]
  },
  {
   "cell_type": "code",
   "execution_count": 2,
   "metadata": {},
   "outputs": [],
   "source": [
    "# Obtendo tabela com população estimada por município IBGE2020\n",
    "# Fonte: IBGE 2020\n",
    "pop_est = pd.read_excel('estimativa_dou_2020.xls', sheet_name=1, header = 1)\n",
    "\n",
    "\n",
    "# Obtendo população estimada do estado Minas Gerais\n",
    "pop_est1 = pop_est[pop_est['UF'] == 'MG']\n",
    "pop_est1.reset_index(inplace = True)\n",
    "pop_est_mg = pop_est1.copy()\n",
    "pop_est_mg.drop(columns = ['COD. MUNIC', 'COD. UF','index'], inplace = True)"
   ]
  },
  {
   "cell_type": "code",
   "execution_count": 3,
   "metadata": {},
   "outputs": [],
   "source": [
    "# Classificando as cidades de acordo com o número de habitantes\n",
    "\n",
    "# Cidades com população até 20.000 hab. -- Pequena\n",
    "# Cidades com população entre 20.001 e 500.000 hab. -- Média\n",
    "# Cidades com população acima de 500.000 hab. -- Grande\n",
    "# Capital do estado -- Belo Horizonte\n",
    "\n",
    "uf_capital = 'Belo Horizonte'\n",
    "\n",
    "pop_est_mg['TAMANHO'] = np.where(pop_est_mg['POPULAÇÃO ESTIMADA'] >= 300001, 'Grande',\n",
    "                                 np.where(pop_est_mg['POPULAÇÃO ESTIMADA'] <= 50000, 'Pequeno',\n",
    "                                          np.where(pop_est_mg['POPULAÇÃO ESTIMADA'].between(50001,300000), 'Médio', 'Erro')))\n",
    "                            \n",
    "\n",
    "pop_est_mg.loc[pop_est_mg['NOME DO MUNICÍPIO'] == uf_capital,'TAMANHO'] = 'Capital'\n",
    "                                                       "
   ]
  },
  {
   "cell_type": "markdown",
   "metadata": {},
   "source": [
    "### Exportando o dataset"
   ]
  },
  {
   "cell_type": "code",
   "execution_count": 4,
   "metadata": {},
   "outputs": [],
   "source": [
    "# Exportando dataset para arquivo .csv\n",
    "pop_est_mg.to_csv('POP_ESTIMADA_MG.csv')"
   ]
  },
  {
   "cell_type": "markdown",
   "metadata": {},
   "source": [
    "<hr>"
   ]
  },
  {
   "cell_type": "markdown",
   "metadata": {},
   "source": [
    "<br>\n",
    "\n",
    "## Dataset ENEM 2019"
   ]
  },
  {
   "cell_type": "markdown",
   "metadata": {},
   "source": [
    "O conjunto de dados do ENEM 2019 é o objeto de estudos deste projeto e foi obtido através do site do INEP. \n",
    "\n",
    "Devido a limitações técnicas, este projeto se limita a estudar os dados do estado de Minas Gerais.\n",
    " \n",
    "<br>\n",
    "Fonte: <a href=\"http://inep.gov.br/microdados\">INEP 2019</a>"
   ]
  },
  {
   "cell_type": "code",
   "execution_count": null,
   "metadata": {},
   "outputs": [],
   "source": [
    "# Obtendo dataset ENEM 2019\n",
    "# Fonte: INEP 2019 \n",
    "\n",
    "#  Importando o dataset completo\n",
    "df_raw = dd.read_csv('MICRODADOS_ENEM_2019.csv', encoding = 'ISO-8859-1', sep = ';')\n",
    "\n",
    "# Filtrando dados da UF MG\n",
    "df_raw = df_raw[df_raw.SG_UF_RESIDENCIA == 'MG']\n",
    "\n",
    "# Importando dataset para arquivo .csv\n",
    "df_raw.to_csv('ENEM_2019_MG.csv')"
   ]
  },
  {
   "cell_type": "markdown",
   "metadata": {},
   "source": [
    "### Dataset ENEM 2019 - Minas Gerais"
   ]
  },
  {
   "cell_type": "code",
   "execution_count": 5,
   "metadata": {},
   "outputs": [
    {
     "name": "stderr",
     "output_type": "stream",
     "text": [
      "C:\\Users\\rodgo\\anaconda3\\lib\\site-packages\\pandas\\core\\indexing.py:670: SettingWithCopyWarning: \n",
      "A value is trying to be set on a copy of a slice from a DataFrame\n",
      "\n",
      "See the caveats in the documentation: https://pandas.pydata.org/pandas-docs/stable/user_guide/indexing.html#returning-a-view-versus-a-copy\n",
      "  iloc._setitem_with_indexer(indexer, value)\n"
     ]
    }
   ],
   "source": [
    "# Obtendo base de dados ENEM 2019 MG -- Selecionando somente as colunas necessárias para as análises\n",
    "\n",
    "columns_to_keep = ['NO_MUNICIPIO_RESIDENCIA', 'SG_UF_RESIDENCIA', 'NU_IDADE', 'TP_SEXO', 'TP_ESTADO_CIVIL', 'TP_COR_RACA', 'TP_ST_CONCLUSAO', 'TP_ESCOLA', 'IN_TREINEIRO',\n",
    "                                'NO_MUNICIPIO_ESC', 'TP_LOCALIZACAO_ESC', 'NO_MUNICIPIO_PROVA', 'SG_UF_PROVA', 'TP_PRESENCA_CN', 'TP_PRESENCA_CH', 'TP_PRESENCA_LC', 'TP_PRESENCA_MT',\n",
    "                                 'NU_NOTA_CN', 'NU_NOTA_CH', 'NU_NOTA_LC', 'NU_NOTA_MT', 'TP_LINGUA', 'TP_STATUS_REDACAO', 'NU_NOTA_REDACAO', 'Q001', 'Q002', 'Q003', 'Q004', 'Q006',\n",
    "                                 'Q007', 'Q008', 'Q010', 'Q011', 'Q022', 'Q024', 'Q025']\n",
    "\n",
    "enem_mg = pd.read_csv(\"ENEM_2019_MG.txt\", sep=\";\", usecols = columns_to_keep)\n",
    "\n",
    "\n",
    "# Criando um df com cópia da base de dados MG\n",
    "dados_mg = enem_mg.copy()\n",
    "\n",
    "\n",
    "# Removendo a coluna SG_UF_RESIDENCIA que não é mais relevante para a análise\n",
    "dados_mg.drop(columns = ['SG_UF_RESIDENCIA'], inplace = True)\n",
    "\n",
    "\n",
    "# Criando coluna TAM_MUNICÍPIO baseada na tabela de dados da populaçõa estimada 2020\n",
    "dados_mg['TAM_MUNICIPIO'] = 'NaN'\n",
    "\n",
    "chico_mg = dados_mg.copy()\n",
    "\n",
    "for i in range(len(dados_mg)):\n",
    "    \n",
    "    nome_mun_loop = dados_mg.iloc[i]['NO_MUNICIPIO_RESIDENCIA']\n",
    "    cond_mun_loop = pop_est_mg.loc[pop_est_mg['NOME DO MUNICÍPIO'] == nome_mun_loop]['NOME DO MUNICÍPIO'] == nome_mun_loop\n",
    "    pop_mun_loop  = pop_est_mg.loc[pop_est_mg['NOME DO MUNICÍPIO'] == nome_mun_loop]['TAMANHO']\n",
    "    \n",
    "    chico_mg.TAM_MUNICIPIO.iloc[i] = np.where(cond_mun_loop, pop_mun_loop, 'Erro')\n",
    "\n",
    "        \n",
    "# Criando coluna NOTA TOTAL, somando as notas de todas as provas\n",
    "provas = ['NU_NOTA_CN', 'NU_NOTA_CH', 'NU_NOTA_MT', 'NU_NOTA_LC', 'NU_NOTA_REDACAO']\n",
    "chico_mg['NU_NOTA_TOTAL'] = chico_mg[provas].sum(axis = 1)\n",
    "\n",
    " "
   ]
  },
  {
   "cell_type": "markdown",
   "metadata": {},
   "source": [
    "### Limpeza e correção de erros"
   ]
  },
  {
   "cell_type": "code",
   "execution_count": 6,
   "metadata": {},
   "outputs": [
    {
     "data": {
      "text/html": [
       "<div>\n",
       "<style scoped>\n",
       "    .dataframe tbody tr th:only-of-type {\n",
       "        vertical-align: middle;\n",
       "    }\n",
       "\n",
       "    .dataframe tbody tr th {\n",
       "        vertical-align: top;\n",
       "    }\n",
       "\n",
       "    .dataframe thead th {\n",
       "        text-align: right;\n",
       "    }\n",
       "</style>\n",
       "<table border=\"1\" class=\"dataframe\">\n",
       "  <thead>\n",
       "    <tr style=\"text-align: right;\">\n",
       "      <th></th>\n",
       "      <th>NO_MUNICIPIO_RESIDENCIA</th>\n",
       "      <th>NU_IDADE</th>\n",
       "      <th>TP_SEXO</th>\n",
       "      <th>TP_ESTADO_CIVIL</th>\n",
       "      <th>TP_COR_RACA</th>\n",
       "      <th>TP_ST_CONCLUSAO</th>\n",
       "      <th>TP_ESCOLA</th>\n",
       "      <th>IN_TREINEIRO</th>\n",
       "      <th>NO_MUNICIPIO_ESC</th>\n",
       "      <th>TP_LOCALIZACAO_ESC</th>\n",
       "      <th>...</th>\n",
       "      <th>Q006</th>\n",
       "      <th>Q007</th>\n",
       "      <th>Q008</th>\n",
       "      <th>Q010</th>\n",
       "      <th>Q011</th>\n",
       "      <th>Q022</th>\n",
       "      <th>Q024</th>\n",
       "      <th>Q025</th>\n",
       "      <th>NU_NOTA_TOTAL</th>\n",
       "      <th>TP_MUNICIPIO</th>\n",
       "    </tr>\n",
       "  </thead>\n",
       "  <tbody>\n",
       "    <tr>\n",
       "      <th>0</th>\n",
       "      <td>Uberlândia</td>\n",
       "      <td>21</td>\n",
       "      <td>M</td>\n",
       "      <td>1</td>\n",
       "      <td>1</td>\n",
       "      <td>1</td>\n",
       "      <td>1</td>\n",
       "      <td>0</td>\n",
       "      <td>NaN</td>\n",
       "      <td>NaN</td>\n",
       "      <td>...</td>\n",
       "      <td>I</td>\n",
       "      <td>A</td>\n",
       "      <td>C</td>\n",
       "      <td>B</td>\n",
       "      <td>A</td>\n",
       "      <td>D</td>\n",
       "      <td>B</td>\n",
       "      <td>B</td>\n",
       "      <td>3097.0</td>\n",
       "      <td>Grande</td>\n",
       "    </tr>\n",
       "    <tr>\n",
       "      <th>1</th>\n",
       "      <td>Canaã</td>\n",
       "      <td>20</td>\n",
       "      <td>M</td>\n",
       "      <td>1</td>\n",
       "      <td>1</td>\n",
       "      <td>1</td>\n",
       "      <td>1</td>\n",
       "      <td>0</td>\n",
       "      <td>NaN</td>\n",
       "      <td>NaN</td>\n",
       "      <td>...</td>\n",
       "      <td>D</td>\n",
       "      <td>A</td>\n",
       "      <td>B</td>\n",
       "      <td>A</td>\n",
       "      <td>B</td>\n",
       "      <td>C</td>\n",
       "      <td>A</td>\n",
       "      <td>A</td>\n",
       "      <td>0.0</td>\n",
       "      <td>Pequeno</td>\n",
       "    </tr>\n",
       "    <tr>\n",
       "      <th>2</th>\n",
       "      <td>Araxá</td>\n",
       "      <td>24</td>\n",
       "      <td>M</td>\n",
       "      <td>1</td>\n",
       "      <td>2</td>\n",
       "      <td>1</td>\n",
       "      <td>1</td>\n",
       "      <td>0</td>\n",
       "      <td>NaN</td>\n",
       "      <td>NaN</td>\n",
       "      <td>...</td>\n",
       "      <td>F</td>\n",
       "      <td>A</td>\n",
       "      <td>B</td>\n",
       "      <td>A</td>\n",
       "      <td>A</td>\n",
       "      <td>C</td>\n",
       "      <td>A</td>\n",
       "      <td>B</td>\n",
       "      <td>0.0</td>\n",
       "      <td>Médio</td>\n",
       "    </tr>\n",
       "    <tr>\n",
       "      <th>3</th>\n",
       "      <td>Belo Horizonte</td>\n",
       "      <td>33</td>\n",
       "      <td>M</td>\n",
       "      <td>1</td>\n",
       "      <td>1</td>\n",
       "      <td>1</td>\n",
       "      <td>1</td>\n",
       "      <td>0</td>\n",
       "      <td>NaN</td>\n",
       "      <td>NaN</td>\n",
       "      <td>...</td>\n",
       "      <td>P</td>\n",
       "      <td>B</td>\n",
       "      <td>D</td>\n",
       "      <td>C</td>\n",
       "      <td>A</td>\n",
       "      <td>D</td>\n",
       "      <td>D</td>\n",
       "      <td>B</td>\n",
       "      <td>0.0</td>\n",
       "      <td>Capital</td>\n",
       "    </tr>\n",
       "    <tr>\n",
       "      <th>4</th>\n",
       "      <td>São João da Ponte</td>\n",
       "      <td>23</td>\n",
       "      <td>M</td>\n",
       "      <td>1</td>\n",
       "      <td>3</td>\n",
       "      <td>1</td>\n",
       "      <td>1</td>\n",
       "      <td>0</td>\n",
       "      <td>NaN</td>\n",
       "      <td>NaN</td>\n",
       "      <td>...</td>\n",
       "      <td>D</td>\n",
       "      <td>A</td>\n",
       "      <td>B</td>\n",
       "      <td>B</td>\n",
       "      <td>B</td>\n",
       "      <td>C</td>\n",
       "      <td>B</td>\n",
       "      <td>A</td>\n",
       "      <td>3398.0</td>\n",
       "      <td>Pequeno</td>\n",
       "    </tr>\n",
       "  </tbody>\n",
       "</table>\n",
       "<p>5 rows × 37 columns</p>\n",
       "</div>"
      ],
      "text/plain": [
       "  NO_MUNICIPIO_RESIDENCIA  NU_IDADE TP_SEXO  TP_ESTADO_CIVIL  TP_COR_RACA  \\\n",
       "0              Uberlândia        21       M                1            1   \n",
       "1                   Canaã        20       M                1            1   \n",
       "2                   Araxá        24       M                1            2   \n",
       "3          Belo Horizonte        33       M                1            1   \n",
       "4       São João da Ponte        23       M                1            3   \n",
       "\n",
       "   TP_ST_CONCLUSAO  TP_ESCOLA  IN_TREINEIRO NO_MUNICIPIO_ESC  \\\n",
       "0                1          1             0              NaN   \n",
       "1                1          1             0              NaN   \n",
       "2                1          1             0              NaN   \n",
       "3                1          1             0              NaN   \n",
       "4                1          1             0              NaN   \n",
       "\n",
       "   TP_LOCALIZACAO_ESC  ... Q006 Q007  Q008  Q010  Q011  Q022  Q024  Q025  \\\n",
       "0                 NaN  ...    I    A     C     B     A     D     B    B    \n",
       "1                 NaN  ...    D    A     B     A     B     C     A    A    \n",
       "2                 NaN  ...    F    A     B     A     A     C     A    B    \n",
       "3                 NaN  ...    P    B     D     C     A     D     D    B    \n",
       "4                 NaN  ...    D    A     B     B     B     C     B    A    \n",
       "\n",
       "   NU_NOTA_TOTAL  TP_MUNICIPIO  \n",
       "0         3097.0        Grande  \n",
       "1            0.0       Pequeno  \n",
       "2            0.0         Médio  \n",
       "3            0.0       Capital  \n",
       "4         3398.0       Pequeno  \n",
       "\n",
       "[5 rows x 37 columns]"
      ]
     },
     "execution_count": 6,
     "metadata": {},
     "output_type": "execute_result"
    }
   ],
   "source": [
    "# Limpando resíduos da coluna TAM_MUNICIPIO e criando a coluna Tipo Município\n",
    "chico_mg['TP_MUNICIPIO'] = np.where(chico_mg['TAM_MUNICIPIO'] == 'Grande', 'Grande', \n",
    "                             np.where(chico_mg['TAM_MUNICIPIO'] == 'Médio', 'Médio',\n",
    "                                np.where(chico_mg['TAM_MUNICIPIO'] == 'Pequeno', 'Pequeno',\n",
    "                                   np.where(chico_mg['TAM_MUNICIPIO'] == 'Capital', 'Capital', 'Erro'))))\n",
    "\n",
    "\n",
    "\n",
    "# Correção das cidades com divergência no nome e foram classificadas como 'Erro'\n",
    "# São Thomé das Letras    7120 -- Pequena\n",
    "# Dona Eusébia            6619 -- Pequena\n",
    "# Pingo d'Água            4986 -- Pequena\n",
    "\n",
    "\n",
    "chico_mg.TP_MUNICIPIO.replace('Erro','Pequeno', inplace = True)\n",
    "\n",
    "\n",
    "# Deletando a coluna TAM_MUNICIPIO que tornou-se desnecessária\n",
    "chico_mg.drop(columns = 'TAM_MUNICIPIO', inplace = True)\n",
    "\n",
    "chico_mg.head()"
   ]
  },
  {
   "cell_type": "markdown",
   "metadata": {},
   "source": [
    "### Exportando o dataset"
   ]
  },
  {
   "cell_type": "code",
   "execution_count": 13,
   "metadata": {},
   "outputs": [],
   "source": [
    "# Exportando dataset para arquivo .csv\n",
    "chico_mg.to_csv('ENEM_2019_MG_CHICO.csv')"
   ]
  },
  {
   "cell_type": "markdown",
   "metadata": {},
   "source": [
    "<hr>"
   ]
  }
 ],
 "metadata": {
  "kernelspec": {
   "display_name": "Python 3",
   "language": "python",
   "name": "python3"
  },
  "language_info": {
   "codemirror_mode": {
    "name": "ipython",
    "version": 3
   },
   "file_extension": ".py",
   "mimetype": "text/x-python",
   "name": "python",
   "nbconvert_exporter": "python",
   "pygments_lexer": "ipython3",
   "version": "3.8.5"
  }
 },
 "nbformat": 4,
 "nbformat_minor": 4
}
