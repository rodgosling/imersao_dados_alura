{
 "cells": [
  {
   "cell_type": "markdown",
   "metadata": {},
   "source": [
    "# **PROJETO CHICO**\n",
    "por **Rodrigo Gosling**\n",
    "<br>\n",
    "<a href=\"https://www.linkedin.com/in/rodgosling/\" target=\"_blank\">Linkedin</a>\n",
    "<br>\n",
    "---"
   ]
  },
  {
   "cell_type": "markdown",
   "metadata": {},
   "source": [
    "<br>\n",
    "O Brasil é um país de proporções continentais e se destaca entre as nações com maior economia do mundo. É, também, o país dos contrastes, ocupando a sétima posição entre os países com maior desigualdade do mundo¹. <br><br>\n",
    "\n",
    "Neste solo verde e amarelo, a desigualdade e seus efeitos são facilmente perceptíveis ao se estudar o comportamento, acessos, privilégios e, principalmente, os dados da população. O Exame Nacional do Ensino Médio (ENEM) é um bom indicador para se entender como a desigualde afeta a educação e, consequentemente, o acesso ao mercado de trabalho de pessoas carentes, em situação de vulnerabilidade ou de algum grupo minorizado.\n",
    "<br>\n",
    "<br>"
   ]
  },
  {
   "cell_type": "markdown",
   "metadata": {},
   "source": [
    "### **Um pouco da história do ENEM**"
   ]
  },
  {
   "cell_type": "markdown",
   "metadata": {},
   "source": [
    "O ENEM foi criado em 1998 com o objetivo de avaliar o desempenho dos estudantes do ensino médio no país. A partir de 2004 passou unificar as provas de acesso às universidades do país (vestibulares) e em 2010, com a inclusão do SISU, passou a ser o maior e mais completo exame educacional existente no Brasil. Sua abrangência é tão grande que os dados dos candidados do ENEM é utilizada como base de estudos para entender a situação social e da desigualdade do Brasil.\n",
    "<br>\n",
    "<br>"
   ]
  },
  {
   "cell_type": "markdown",
   "metadata": {},
   "source": [
    "### **Chico**"
   ]
  },
  {
   "cell_type": "markdown",
   "metadata": {},
   "source": [
    "Outro excelente indicador da desigualdade entre os brasileiros são as produções culturais e artísticas. Novelas, filmes, reality shows, séries, fotografias e tantas outras formas de expressão retratam o melhor e o pior do Brasil.\n",
    "\n",
    "Algumas vezes vemos as diferenças nos detalhes, como no caso dos quadrinhos da Turma da Mônica. A personagem e sua turma fazem sucesso no país desde sua criação em 1959. As historinhas, além de trazer um pouco do dia-a-dia de brincadeiras de crianças, indiretamente apresenta um dos problemas que até hoje afetam crianças e adolescentes em todo país: o **trabalho infantil**."
   ]
  },
  {
   "cell_type": "markdown",
   "metadata": {},
   "source": [
    "<img src=\"chicobento_trabalho.png\"/>"
   ]
  },
  {
   "cell_type": "markdown",
   "metadata": {},
   "source": [
    "Apesar de romantizado, o trabalho agrícola realizado por Chico Bento é uma crítica à sociedade brasileira. Entre os principais personagens, o Chico é o único que trabalha. Mônica, Magali, Cascão e Cebolinha são frequentemente representados curtindo sua infância.\n",
    "\n",
    "O Chico é, também, o único personagem representado frequentando a escola. Quem o conhece certamente se lembra que ele está sempre preocupado com suas notas e possibilidade em ser reprovado na escola."
   ]
  },
  {
   "cell_type": "markdown",
   "metadata": {},
   "source": [
    "<img src=\"chicobento_estudo.png\">"
   ]
  },
  {
   "cell_type": "markdown",
   "metadata": {},
   "source": [
    "A história do Chico não é incomum. Segundo o IBGE (PNAD 2016), 569 mil crianças adolescentes entre 5 e 17 anos relataram que realizam atividades laborais (remunerada ou não). Dentre estas, 11,3% realizam atividades agrícolas, como o Chico.\n",
    "\n",
    "Estudantes das áreas rurais frequentemente relatam problemas como falta de infraestrutura na escola e dificuldade para chegar até a escola, devido à falta de transporte. Estes e outros fatores podem acabar influenciando sua permanência na escola e, consequentemente, seu resultado no ENEM.\n",
    "\n",
    "Em contrapartida, Mônica, Cebolinha, Cascão e Magali representam uma classe da população que não precisa se preocupar em trabalhar durante a infância. Integrantes de famílias de classe média da zona urbana, os personagens usufruem da sua infância como toda criança deveria.\n",
    "<br>\n",
    "<br>"
   ]
  },
  {
   "cell_type": "markdown",
   "metadata": {},
   "source": [
    "### **Objetivo**"
   ]
  },
  {
   "cell_type": "markdown",
   "metadata": {},
   "source": [
    "O objetivo deste estudo, portanto, é verificar se há correlação entre as notas de estudantes de municípios pequenos, médios, grandes e capitais no estado de Minas Gerais. Tal divisão foi realizada conforme número de habitantes, de acordo com o quadro abaixo:\n",
    "\n",
    "Tamanho | População\n",
    "--- | ---\n",
    "Pequeno | até 50.000 hab.\n",
    "Médio | entre 50.0001 e 300.000 hab.\n",
    "Grande | acima de 300.001 hab.\n",
    "Capital | Belo Horizonte\n",
    "\n",
    "\n",
    "<br>\n",
    "<br>\n",
    "\n",
    "\n",
    "**Referências:**\n",
    "<br>\n",
    "<br>\n",
    "¹ <a href=\"https://noticias.uol.com.br/internacional/ultimas-noticias/2019/12/09/brasil-e-o-7-mais-desigual-do-mundo-melhor-apenas-do-que-africanos.htm\" target=\"_blank\">UOL: Brasil é o 7º Mais desigual do mundo melhor apenas do que africanos</a>\n",
    "\n",
    "<a href=\"https://www.educamaisbrasil.com.br/programas-do-governo/enem/o-que-e\" target=\"_blank\">Educamais Brasil: ENEM - O que é?</a>\n",
    "\n",
    "<a href=\"https://www.ibge.gov.br/estatisticas/sociais/trabalho/17270-pnad-continua.html?edicao=18390&t=resultados\" target=\"_blank\">IBGE - PNAD (2016)</a>\n",
    "<br>\n",
    "<hr>"
   ]
  },
  {
   "cell_type": "markdown",
   "metadata": {},
   "source": [
    "# Bases de dados"
   ]
  },
  {
   "cell_type": "markdown",
   "metadata": {},
   "source": [
    "A base de dados utilizada será do ENEM 2019. <a href=\"https://github.com/rodgosling/imersao_dados_alura/blob/main/Projeto%20Chico%20-%20Obtendo%20o%20dataset%20ENEM%202019%20MG.ipynb\" target=\"_blank\">Neste notebook</a> é possível verificar o processo de obtenção, tratamento, limpeza da base de dados utilizada neste estudo."
   ]
  },
  {
   "cell_type": "code",
   "execution_count": 2,
   "metadata": {},
   "outputs": [],
   "source": [
    "# Importando as bibliotecas necessárias\n",
    "\n",
    "import numpy                   as np\n",
    "import pandas                  as pd\n",
    "import matplotlib.pyplot       as plt\n",
    "import seaborn                 as sns\n",
    "from   sklearn.model_selection import train_test_split\n",
    "from   sklearn.svm             import LinearSVR"
   ]
  },
  {
   "cell_type": "markdown",
   "metadata": {},
   "source": [
    "### Dataset ENEM 2019 - Minas Gerais"
   ]
  },
  {
   "cell_type": "code",
   "execution_count": 3,
   "metadata": {},
   "outputs": [
    {
     "data": {
      "text/html": [
       "<div>\n",
       "<style scoped>\n",
       "    .dataframe tbody tr th:only-of-type {\n",
       "        vertical-align: middle;\n",
       "    }\n",
       "\n",
       "    .dataframe tbody tr th {\n",
       "        vertical-align: top;\n",
       "    }\n",
       "\n",
       "    .dataframe thead th {\n",
       "        text-align: right;\n",
       "    }\n",
       "</style>\n",
       "<table border=\"1\" class=\"dataframe\">\n",
       "  <thead>\n",
       "    <tr style=\"text-align: right;\">\n",
       "      <th></th>\n",
       "      <th>Unnamed: 0</th>\n",
       "      <th>NO_MUNICIPIO_RESIDENCIA</th>\n",
       "      <th>NU_IDADE</th>\n",
       "      <th>TP_SEXO</th>\n",
       "      <th>TP_ESTADO_CIVIL</th>\n",
       "      <th>TP_COR_RACA</th>\n",
       "      <th>TP_ST_CONCLUSAO</th>\n",
       "      <th>TP_ESCOLA</th>\n",
       "      <th>IN_TREINEIRO</th>\n",
       "      <th>NO_MUNICIPIO_ESC</th>\n",
       "      <th>...</th>\n",
       "      <th>Q006</th>\n",
       "      <th>Q007</th>\n",
       "      <th>Q008</th>\n",
       "      <th>Q010</th>\n",
       "      <th>Q011</th>\n",
       "      <th>Q022</th>\n",
       "      <th>Q024</th>\n",
       "      <th>Q025</th>\n",
       "      <th>NU_NOTA_TOTAL</th>\n",
       "      <th>TP_MUNICIPIO</th>\n",
       "    </tr>\n",
       "  </thead>\n",
       "  <tbody>\n",
       "    <tr>\n",
       "      <th>0</th>\n",
       "      <td>0</td>\n",
       "      <td>Uberlândia</td>\n",
       "      <td>21</td>\n",
       "      <td>M</td>\n",
       "      <td>1</td>\n",
       "      <td>1</td>\n",
       "      <td>1</td>\n",
       "      <td>1</td>\n",
       "      <td>0</td>\n",
       "      <td>NaN</td>\n",
       "      <td>...</td>\n",
       "      <td>I</td>\n",
       "      <td>A</td>\n",
       "      <td>C</td>\n",
       "      <td>B</td>\n",
       "      <td>A</td>\n",
       "      <td>D</td>\n",
       "      <td>B</td>\n",
       "      <td>B</td>\n",
       "      <td>3097.0</td>\n",
       "      <td>Grande</td>\n",
       "    </tr>\n",
       "    <tr>\n",
       "      <th>1</th>\n",
       "      <td>1</td>\n",
       "      <td>Canaã</td>\n",
       "      <td>20</td>\n",
       "      <td>M</td>\n",
       "      <td>1</td>\n",
       "      <td>1</td>\n",
       "      <td>1</td>\n",
       "      <td>1</td>\n",
       "      <td>0</td>\n",
       "      <td>NaN</td>\n",
       "      <td>...</td>\n",
       "      <td>D</td>\n",
       "      <td>A</td>\n",
       "      <td>B</td>\n",
       "      <td>A</td>\n",
       "      <td>B</td>\n",
       "      <td>C</td>\n",
       "      <td>A</td>\n",
       "      <td>A</td>\n",
       "      <td>0.0</td>\n",
       "      <td>Pequeno</td>\n",
       "    </tr>\n",
       "    <tr>\n",
       "      <th>2</th>\n",
       "      <td>2</td>\n",
       "      <td>Araxá</td>\n",
       "      <td>24</td>\n",
       "      <td>M</td>\n",
       "      <td>1</td>\n",
       "      <td>2</td>\n",
       "      <td>1</td>\n",
       "      <td>1</td>\n",
       "      <td>0</td>\n",
       "      <td>NaN</td>\n",
       "      <td>...</td>\n",
       "      <td>F</td>\n",
       "      <td>A</td>\n",
       "      <td>B</td>\n",
       "      <td>A</td>\n",
       "      <td>A</td>\n",
       "      <td>C</td>\n",
       "      <td>A</td>\n",
       "      <td>B</td>\n",
       "      <td>0.0</td>\n",
       "      <td>Médio</td>\n",
       "    </tr>\n",
       "    <tr>\n",
       "      <th>3</th>\n",
       "      <td>3</td>\n",
       "      <td>Belo Horizonte</td>\n",
       "      <td>33</td>\n",
       "      <td>M</td>\n",
       "      <td>1</td>\n",
       "      <td>1</td>\n",
       "      <td>1</td>\n",
       "      <td>1</td>\n",
       "      <td>0</td>\n",
       "      <td>NaN</td>\n",
       "      <td>...</td>\n",
       "      <td>P</td>\n",
       "      <td>B</td>\n",
       "      <td>D</td>\n",
       "      <td>C</td>\n",
       "      <td>A</td>\n",
       "      <td>D</td>\n",
       "      <td>D</td>\n",
       "      <td>B</td>\n",
       "      <td>0.0</td>\n",
       "      <td>Capital</td>\n",
       "    </tr>\n",
       "    <tr>\n",
       "      <th>4</th>\n",
       "      <td>4</td>\n",
       "      <td>São João da Ponte</td>\n",
       "      <td>23</td>\n",
       "      <td>M</td>\n",
       "      <td>1</td>\n",
       "      <td>3</td>\n",
       "      <td>1</td>\n",
       "      <td>1</td>\n",
       "      <td>0</td>\n",
       "      <td>NaN</td>\n",
       "      <td>...</td>\n",
       "      <td>D</td>\n",
       "      <td>A</td>\n",
       "      <td>B</td>\n",
       "      <td>B</td>\n",
       "      <td>B</td>\n",
       "      <td>C</td>\n",
       "      <td>B</td>\n",
       "      <td>A</td>\n",
       "      <td>3398.0</td>\n",
       "      <td>Pequeno</td>\n",
       "    </tr>\n",
       "  </tbody>\n",
       "</table>\n",
       "<p>5 rows × 38 columns</p>\n",
       "</div>"
      ],
      "text/plain": [
       "   Unnamed: 0 NO_MUNICIPIO_RESIDENCIA  NU_IDADE TP_SEXO  TP_ESTADO_CIVIL  \\\n",
       "0           0              Uberlândia        21       M                1   \n",
       "1           1                   Canaã        20       M                1   \n",
       "2           2                   Araxá        24       M                1   \n",
       "3           3          Belo Horizonte        33       M                1   \n",
       "4           4       São João da Ponte        23       M                1   \n",
       "\n",
       "   TP_COR_RACA  TP_ST_CONCLUSAO  TP_ESCOLA  IN_TREINEIRO NO_MUNICIPIO_ESC  \\\n",
       "0            1                1          1             0              NaN   \n",
       "1            1                1          1             0              NaN   \n",
       "2            2                1          1             0              NaN   \n",
       "3            1                1          1             0              NaN   \n",
       "4            3                1          1             0              NaN   \n",
       "\n",
       "   ...  Q006 Q007 Q008  Q010  Q011  Q022  Q024  Q025  NU_NOTA_TOTAL  \\\n",
       "0  ...     I    A    C     B     A     D     B    B          3097.0   \n",
       "1  ...     D    A    B     A     B     C     A    A             0.0   \n",
       "2  ...     F    A    B     A     A     C     A    B             0.0   \n",
       "3  ...     P    B    D     C     A     D     D    B             0.0   \n",
       "4  ...     D    A    B     B     B     C     B    A          3398.0   \n",
       "\n",
       "   TP_MUNICIPIO  \n",
       "0        Grande  \n",
       "1       Pequeno  \n",
       "2         Médio  \n",
       "3       Capital  \n",
       "4       Pequeno  \n",
       "\n",
       "[5 rows x 38 columns]"
      ]
     },
     "execution_count": 3,
     "metadata": {},
     "output_type": "execute_result"
    }
   ],
   "source": [
    "# Obtendo base de dados ENEM 2019 MG\n",
    "\n",
    "chico_mg = pd.read_csv('ENEM_2019_MG_CHICO.csv')\n",
    "chico_mg.head() "
   ]
  },
  {
   "cell_type": "markdown",
   "metadata": {},
   "source": [
    "### Criação de dicionários de dados"
   ]
  },
  {
   "cell_type": "code",
   "execution_count": 4,
   "metadata": {},
   "outputs": [],
   "source": [
    "# Dicionário de cores referente ao tamanho dos municípios\n",
    "\n",
    "dic_cor_municipio = {\n",
    "    'Capital' : '#E5A900',\n",
    "    'Grande'  : '#FFCEB7',\n",
    "    'Médio'   : '#FFEB00',\n",
    "    'Pequeno' : '#009BDA'\n",
    "}\n",
    "\n"
   ]
  },
  {
   "cell_type": "markdown",
   "metadata": {},
   "source": [
    "<hr>"
   ]
  },
  {
   "cell_type": "markdown",
   "metadata": {},
   "source": [
    "# Perfil sócio-econômico do candidato do ENEM 2019 em Minas Gerais"
   ]
  },
  {
   "cell_type": "markdown",
   "metadata": {},
   "source": [
    "Neste tópico serão realizadas análises com objetivo de traçar o perfil sócio-econômico das pessoas que residem em Minas Gerais e se candidataram ao ENEM em 2019. Os ítens a serem estudados foram definidos considerando pontos que historicamente são notadas posções de privilégio e desigualdade na sociedade brasileira e, portanto, podem influenciar a performance dos candidatos na prova. Estes pontos são:\n",
    "* Cor ou raça\n",
    "* Gênero\n",
    "* Classe social\n",
    "* Grau de instrução dos responsáveis\n",
    "* Profissão dos responsáveis\n",
    "* Acesso à tecnologia (celular, computador e internet)\n",
    "\n",
    "<br>"
   ]
  },
  {
   "cell_type": "markdown",
   "metadata": {},
   "source": [
    "## Proporção de candidatos por tamanho do município"
   ]
  },
  {
   "cell_type": "markdown",
   "metadata": {},
   "source": [
    "Conforme informado anteriormente, para este estudo foi considerada a seguinte divisão de municípios:\n",
    "\n",
    "Tamanho | População\n",
    "--- | ---\n",
    "Pequeno | até 50.000 hab.\n",
    "Médio | entre 50.0001 e 300.000 hab.\n",
    "Grande | acima de 300.001 hab.\n",
    "Capital | Belo Horizonte\n",
    "\n",
    "<br>"
   ]
  },
  {
   "cell_type": "code",
   "execution_count": 5,
   "metadata": {},
   "outputs": [
    {
     "data": {
      "text/plain": [
       "Text(0.5, 1.0, 'Candidatos por tamanho do município')"
      ]
     },
     "execution_count": 5,
     "metadata": {},
     "output_type": "execute_result"
    },
    {
     "data": {
      "image/png": "[encoded data removed]",
      "text/plain": [
       "<Figure size 720x576 with 1 Axes>"
      ]
     },
     "metadata": {
      "needs_background": "light"
     },
     "output_type": "display_data"
    }
   ],
   "source": [
    "# Verificando a quantidade de candidatos por tipo de município\n",
    "\n",
    "# Selecionando os dados \n",
    "cidades = ['Capital', 'Grande', 'Médio', 'Pequeno']\n",
    "qde_inscritos = chico_mg.TP_MUNICIPIO.value_counts().sort_index()\n",
    "\n",
    "\n",
    "# Configurando o gráfico\n",
    "fig1, ax1 = plt.subplots(figsize=(10,8))\n",
    "sns.barplot(x = cidades, y = qde_inscritos, data = chico_mg, \n",
    "            palette = [dic_cor_municipio['Capital'], dic_cor_municipio['Grande'], dic_cor_municipio['Médio'], dic_cor_municipio['Pequeno']])\n",
    "\n",
    "# Removendo as bordas\n",
    "sns.despine(bottom = True, left = True) \n",
    "\n",
    "# Definindo o rótulo do eixo y\n",
    "plt.ylabel('Qd Candidatos', color = 'grey', labelpad = 20, fontsize = 10) \n",
    "\n",
    "# Configurando o título do gráfico\n",
    "plt.title('Candidatos por tamanho do município', pad = 20, fontsize = 15, color ='black', fontweight = 'bold') \n"
   ]
  },
  {
   "cell_type": "code",
   "execution_count": 6,
   "metadata": {},
   "outputs": [
    {
     "data": {
      "image/png": "[encoded data removed]",
      "text/plain": [
       "<Figure size 720x576 with 1 Axes>"
      ]
     },
     "metadata": {
      "needs_background": "light"
     },
     "output_type": "display_data"
    }
   ],
   "source": [
    "# Verificando a proporção de candidatos por tipo de município\n",
    "\n",
    "# Selecionando os dados \n",
    "cidades = ['Capital', 'Grande', 'Médio', 'Pequeno']\n",
    "qde_inscritos = chico_mg.TP_MUNICIPIO.value_counts(normalize = True).sort_index()\n",
    "\n",
    "\n",
    "# Configurando o gráfico\n",
    "fig1, ax1 = plt.subplots(figsize=(10,8))\n",
    "sns.barplot(x = cidades, y = qde_inscritos * 100, data = chico_mg, \n",
    "            palette = [dic_cor_municipio['Capital'], dic_cor_municipio['Grande'], dic_cor_municipio['Médio'], dic_cor_municipio['Pequeno']])\n",
    "\n",
    "# Removendo as bordas\n",
    "sns.despine(bottom = True, left = True) \n",
    "\n",
    "# Definindo o rótulo do eixo y\n",
    "plt.ylabel('Qd Candidatos', color = 'grey', labelpad = 20, fontsize = 10) \n",
    "\n",
    "# Configurando o título do gráfico\n",
    "plt.title('% de candidatos por tamanho do município', pad = 20, fontsize = 15, color ='black', fontweight = 'bold') \n",
    "\n",
    "# Inserindo rótulo de dados\n",
    "for plot_loop in ax1.patches:\n",
    "      height = plot_loop.get_height()\n",
    "      ax1.text(x = plot_loop.get_x() + plot_loop.get_width() /2, y = height + .5, s = '{:.2f}%'.format(height),\n",
    "                ha=\"center\", fontweight='heavy', fontsize=12)"
   ]
  },
  {
   "cell_type": "markdown",
   "metadata": {},
   "source": [
    "### Conclusão"
   ]
  },
  {
   "cell_type": "markdown",
   "metadata": {},
   "source": [
    "É possível verificar que a proporção de candidatos em relação ao total de inscritos é maior em municípios Médios e Pequenos, com 33% dos candidatos, seguido por municípios Grandes e a Capital, com 18% e 14% dos candidatos, respectivamente.\n",
    "\n",
    "<hr>"
   ]
  },
  {
   "cell_type": "markdown",
   "metadata": {},
   "source": [
    "## Distribuição de candidatos por cor ou raça\n",
    "\n"
   ]
  },
  {
   "cell_type": "markdown",
   "metadata": {},
   "source": [
    "Sabendo-se do privilégio que pessoas brancas possuem na sociedade brasileira, é importante entender a distribuição dos candidatos a partir da auto-identificação de cor/raça. \n",
    "\n",
    "Obs: Para esta análise foram excluídas as respostas dos 10.936 candidatos que não responderam."
   ]
  },
  {
   "cell_type": "markdown",
   "metadata": {},
   "source": [
    "### Auto-identificação de cor ou raça em Minas Gerais"
   ]
  },
  {
   "cell_type": "code",
   "execution_count": 7,
   "metadata": {},
   "outputs": [
    {
     "data": {
      "image/png": "[encoded data removed]",
      "text/plain": [
       "<Figure size 720x576 with 1 Axes>"
      ]
     },
     "metadata": {
      "needs_background": "light"
     },
     "output_type": "display_data"
    }
   ],
   "source": [
    "# Distribuição de candidatos por cor/raça\n",
    "\n",
    "# Referência\n",
    "# 1 - Branca\n",
    "# 2 - Preta\n",
    "# 3 - Parda\n",
    "# 4 - Amarela\n",
    "# 5 - Indígena\n",
    "\n",
    "# Retirando da análise as pessoas que não responderam \n",
    "cor_raca_respostas = chico_mg[chico_mg['TP_COR_RACA'] != 0]\n",
    "\n",
    "# Selecionando os dados \n",
    "cor_raca_labels = ['Branca', 'Preta', 'Parda', 'Amarela', 'Indígena']\n",
    "cor_raca = cor_raca_respostas.TP_COR_RACA.value_counts(normalize = True).sort_index()\n",
    "\n",
    "# Configurando o gráfico\n",
    "fig2, ax2 = plt.subplots(figsize=(10,8))\n",
    "sns.barplot(x = cor_raca_labels, y = cor_raca*100, color = '#49306B')\n",
    "\n",
    "# Removendo as bordas\n",
    "sns.despine(bottom = True, left = True) \n",
    "\n",
    "# Definindo o rótulo do eixo y\n",
    "plt.ylabel('% Canditatos', color = 'grey', labelpad = 20, fontsize = 10) \n",
    "\n",
    "# Configurando o título do gráfico\n",
    "plt.title('Auto-identificação de cor ou raça', pad = 20, fontsize = 15, color ='black', fontweight = 'bold') \n",
    "\n",
    "# Retirando os valores do eixo y\n",
    "ax2.set_yticklabels([])\n",
    "\n",
    "# Inserindo rótulo de dados\n",
    "for plot_loop in ax2.patches:\n",
    "      height = plot_loop.get_height()\n",
    "      ax2.text(x = plot_loop.get_x() + plot_loop.get_width() /2, y = height + .5, s = '{:.2f}%'.format(height),\n",
    "                ha=\"center\", fontweight='heavy', fontsize=12)\n"
   ]
  },
  {
   "cell_type": "markdown",
   "metadata": {},
   "source": [
    "\n",
    "\n",
    "### Auto-identificação de cor ou raça por tamanho do município"
   ]
  },
  {
   "cell_type": "code",
   "execution_count": 8,
   "metadata": {},
   "outputs": [
    {
     "data": {
      "text/plain": [
       "Text(0.5, 1.0, 'Cor ou raça - Mun. Pequeno')"
      ]
     },
     "execution_count": 8,
     "metadata": {},
     "output_type": "execute_result"
    },
    {
     "data": {
      "image/png": "[encoded data removed]",
      "text/plain": [
       "<Figure size 1440x360 with 4 Axes>"
      ]
     },
     "metadata": {
      "needs_background": "light"
     },
     "output_type": "display_data"
    }
   ],
   "source": [
    "# Auto-identificação de cor ou raça por tamanho do município\n",
    "\n",
    "# Definindo função para plotar o gráfico de acordo com o tipo de município\n",
    "\n",
    "plt.figure(figsize=(20,5))\n",
    "\n",
    "def plot_cor_raca (tamanho_mun, posicao_plot):\n",
    "    \n",
    "    # Cálculo da distribuição de pessoas por cor ou raça por município\n",
    "    cor_raca = cor_raca_respostas.TP_COR_RACA[cor_raca_respostas['TP_MUNICIPIO'] == tamanho_mun].value_counts(normalize = True).sort_index()\n",
    "    \n",
    "    # Definindo a posição da figura \n",
    "    plt.subplot(1,4,posicao_plot)\n",
    "    \n",
    "    # Gerando o gráfico\n",
    "    sns.barplot(x = cor_raca_labels, y = cor_raca*100, color = dic_cor_municipio[tamanho_mun])\n",
    "\n",
    "    # Removendo as bordas\n",
    "    sns.despine(bottom = True, left = True) \n",
    "\n",
    "    # Definindo o rótulo do eixo y\n",
    "    plt.ylabel('% Candidatos', color = 'grey', labelpad = 20, fontsize = 10) \n",
    "\n",
    "\n",
    "    \n",
    "# Plotando o gráfico da Capital\n",
    "plot_cor_raca('Capital', 1)    \n",
    "\n",
    "# Configurando o título do gráfico\n",
    "plt.title('Cor ou raça - Capital', pad = 20, fontsize = 13, color ='black')\n",
    "\n",
    "\n",
    "\n",
    "# Plotando o gráfico de municípios Grandes\n",
    "plot_cor_raca('Grande', 2)\n",
    "\n",
    "# Configurando o título do gráfico\n",
    "plt.title('Cor ou raça - Mun. Grande', pad = 20, fontsize = 13, color ='black')\n",
    "\n",
    "\n",
    "\n",
    "# Plotando o gráfico de municípios Médios\n",
    "plot_cor_raca('Médio', 3)\n",
    "\n",
    "# Configurando o título do gráfico\n",
    "plt.title('Cor ou raça - Mun. Médio', pad = 20, fontsize = 13, color ='black')\n",
    "\n",
    "\n",
    "\n",
    "# Plotando o gráfico de municípios Pequenos\n",
    "plot_cor_raca('Pequeno', 4)\n",
    "\n",
    "# Configurando o título do gráfico\n",
    "plt.title('Cor ou raça - Mun. Pequeno', pad = 20, fontsize = 13, color ='black')"
   ]
  },
  {
   "cell_type": "markdown",
   "metadata": {},
   "source": [
    "### Conclusão"
   ]
  },
  {
   "cell_type": "markdown",
   "metadata": {},
   "source": [
    "A proporção de candidatos por município segue a mesma distribuição da análise geral do estado, mostrando que a divisão realizada mantêm o padrão do estado. \n",
    "\n",
    "É importante ressaltar que a distribuição dos candidatos por auto-classificação de cor e raça difere pouco dos resultados do IBGE na Pesquisa Nacional por Amostra de Domicílios Contínua (PNAD) de 2019. Segundo a pesquisa do IBGE, a população declarada de cor branca, em 2019, representava 42,7% da população residente, ao passo que a de cor preta era de 9,4% e\n",
    "de pardos correspondiam a 46,8%.\n",
    "\n",
    "Já na região sudeste do Brasil, onde o estado de Minas Gerais está localizado, a proporção entre as cores branca, preta e parda correspondem a 50%, 9,9% e 39% da população respectivamente. O relatório não apresenta a quantidade de pessoas que se identificam como amarelos e indígenas.\n",
    "\n",
    "<br>\n",
    "\n",
    "\n",
    "**Referência:**\n",
    "\n",
    "<a href=\"https://biblioteca.ibge.gov.br/visualizacao/livros/liv101707_informativo.pdf\" target=\"_blank\">IBGE - PNAD (2019)</a>\n",
    "<br>\n",
    "<hr>"
   ]
  },
  {
   "cell_type": "markdown",
   "metadata": {},
   "source": [
    "## Distribuição de candidatos por gênero"
   ]
  },
  {
   "cell_type": "markdown",
   "metadata": {},
   "source": [
    "Homens cisgêneros (pessoas que se identificam com o gênero masculino e foram designados como homem no momento do nascimento) historicamente ocupam lugar de destaque na sociedade brasileira. As restrições às responsabilidades de um cidadão eram vetadas às pessoas que se identificam como mulheres até 1932, quando foi publicada o decreto 21.076 autorizando-as a votar. Apesar de terem se passado 88 anos, as mulheres ainda ganham menos que homens e têm menos acesso ao mercado de trabalho.\n",
    "\n",
    "\n",
    "<br>\n",
    "\n",
    "**Referência:**\n",
    "\n",
    "<a href=\"https://noticias.r7.com/economia/mulheres-ainda-ganham-205-a-menos-do-que-homens-diz-ibge-08032019#:~:text=O%20estudo%20mostra%20que%2C%20mesmo,entre%2025%20e%2049%20anos\" target=\"_blank\">Portal R7: Mulheres ainda ganham 20,5% a menos do que homens, diz IBGE</a>\n",
    " \n"
   ]
  },
  {
   "cell_type": "markdown",
   "metadata": {},
   "source": [
    "### Gênero em Minas Gerais"
   ]
  },
  {
   "cell_type": "code",
   "execution_count": 70,
   "metadata": {},
   "outputs": [
    {
     "data": {
      "text/plain": [
       "Text(0.5, 1.0, 'Candidatos por gênero')"
      ]
     },
     "execution_count": 70,
     "metadata": {},
     "output_type": "execute_result"
    },
    {
     "data": {
      "image/png": "[encoded data removed]",
      "text/plain": [
       "<Figure size 720x576 with 1 Axes>"
      ]
     },
     "metadata": {},
     "output_type": "display_data"
    }
   ],
   "source": [
    "# Verificando a proporção de candidatos por gênero\n",
    "\n",
    "# Referência \n",
    "# M -- Pessoa se identifica com gênero Masculino\n",
    "# F -- Pessoa se identifica com gênero Feminino\n",
    "\n",
    "# Definindo a quantidade de alunos de escola pública e privada\n",
    "masculino_mg = chico_mg.TP_SEXO[chico_mg['TP_SEXO'] == 'M'].count()\n",
    "feminino_mg = chico_mg.TP_SEXO[chico_mg['TP_SEXO'] == 'F'].count()\n",
    "\n",
    "# Definindo o dataframe de plotagem\n",
    "genero_mg_df = pd.DataFrame ({\n",
    "    'Quantidade' : [masculino_mg, feminino_mg]},\n",
    "     index   = ['Masculino', 'Feminino']\n",
    ")\n",
    "\n",
    "\n",
    "# Gerando o gráfico\n",
    "genero_mg_df.plot.pie(y= 'Quantidade', explode = [0., 0.05], startangle = 90, autopct = '%1.1f%%', fontsize = 15, figsize = (10,8) , colors = ['#49306B', '#A88ECC'])\n",
    "\n",
    "\n",
    "# Configurando o título do gráfico\n",
    "plt.title('Candidatos por gênero', pad = 20, fontsize = 15, color ='black', fontweight = 'bold') "
   ]
  },
  {
   "cell_type": "markdown",
   "metadata": {},
   "source": [
    "### Gênero por tamanho do município"
   ]
  },
  {
   "cell_type": "code",
   "execution_count": 73,
   "metadata": {},
   "outputs": [
    {
     "data": {
      "text/plain": [
       "Text(0.5, 1.0, 'Candidatos por gênero')"
      ]
     },
     "execution_count": 73,
     "metadata": {},
     "output_type": "execute_result"
    },
    {
     "data": {
      "image/png": "[encoded data removed]",
      "text/plain": [
       "<Figure size 720x576 with 1 Axes>"
      ]
     },
     "metadata": {
      "needs_background": "light"
     },
     "output_type": "display_data"
    }
   ],
   "source": [
    "# Verificando a proporção de candidatos por gênero\n",
    "\n",
    "# Referência \n",
    "# M -- Pessoa se identifica com gênero Masculino\n",
    "# F -- Pessoa se identifica com gênero Feminino\n",
    "\n",
    "cidades = ['Capital', 'Grande', 'Médio', 'Pequeno']\n",
    "\n",
    "# Definindo a quantidade de alunos de escola pública e privada\n",
    "masculino = chico_mg.TP_MUNICIPIO[chico_mg['TP_SEXO'] == 'M'].value_counts().sort_index()\n",
    "feminino = chico_mg.TP_MUNICIPIO[chico_mg['TP_SEXO'] == 'F'].value_counts().sort_index()\n",
    "\n",
    "# Definindo o dataframe de plotagem\n",
    "genero_mun_df = pd.DataFrame ({\n",
    "    'Masculino' : masculino,\n",
    "    'Feminino'  : feminino},\n",
    "    index = cidades\n",
    ")\n",
    "\n",
    "\n",
    "genero_mun_df.plot.bar(rot = 0, figsize = (10,8), color = ['#49306B', '#A88ECC'])\n",
    "\n",
    "# Removendo as bordas\n",
    "sns.despine(bottom = True, left = True) \n",
    "\n",
    "# Definindo o rótulo do eixo y\n",
    "plt.ylabel('Qd Candidatos', color = 'grey', labelpad = 20, fontsize = 10) \n",
    "\n",
    "# Configurando o título do gráfico\n",
    "plt.title('Candidatos por gênero', pad = 20, fontsize = 15, color ='black', fontweight = 'bold') "
   ]
  },
  {
   "cell_type": "code",
   "execution_count": 79,
   "metadata": {},
   "outputs": [
    {
     "data": {
      "text/html": [
       "<div>\n",
       "<style scoped>\n",
       "    .dataframe tbody tr th:only-of-type {\n",
       "        vertical-align: middle;\n",
       "    }\n",
       "\n",
       "    .dataframe tbody tr th {\n",
       "        vertical-align: top;\n",
       "    }\n",
       "\n",
       "    .dataframe thead th {\n",
       "        text-align: right;\n",
       "    }\n",
       "</style>\n",
       "<table border=\"1\" class=\"dataframe\">\n",
       "  <thead>\n",
       "    <tr style=\"text-align: right;\">\n",
       "      <th></th>\n",
       "      <th>Masculino</th>\n",
       "      <th>Feminino</th>\n",
       "    </tr>\n",
       "  </thead>\n",
       "  <tbody>\n",
       "    <tr>\n",
       "      <th>Capital</th>\n",
       "      <td>32838</td>\n",
       "      <td>46546</td>\n",
       "    </tr>\n",
       "    <tr>\n",
       "      <th>Grande</th>\n",
       "      <td>40249</td>\n",
       "      <td>59753</td>\n",
       "    </tr>\n",
       "    <tr>\n",
       "      <th>Médio</th>\n",
       "      <td>71300</td>\n",
       "      <td>106890</td>\n",
       "    </tr>\n",
       "    <tr>\n",
       "      <th>Pequeno</th>\n",
       "      <td>68135</td>\n",
       "      <td>113185</td>\n",
       "    </tr>\n",
       "  </tbody>\n",
       "</table>\n",
       "</div>"
      ],
      "text/plain": [
       "         Masculino  Feminino\n",
       "Capital      32838     46546\n",
       "Grande       40249     59753\n",
       "Médio        71300    106890\n",
       "Pequeno      68135    113185"
      ]
     },
     "execution_count": 79,
     "metadata": {},
     "output_type": "execute_result"
    }
   ],
   "source": [
    "genero_mun_df"
   ]
  },
  {
   "cell_type": "code",
   "execution_count": null,
   "metadata": {},
   "outputs": [],
   "source": []
  }
 ],
 "metadata": {
  "kernelspec": {
   "display_name": "Python 3",
   "language": "python",
   "name": "python3"
  },
  "language_info": {
   "codemirror_mode": {
    "name": "ipython",
    "version": 3
   },
   "file_extension": ".py",
   "mimetype": "text/x-python",
   "name": "python",
   "nbconvert_exporter": "python",
   "pygments_lexer": "ipython3",
   "version": "3.8.5"
  }
 },
 "nbformat": 4,
 "nbformat_minor": 4
}
